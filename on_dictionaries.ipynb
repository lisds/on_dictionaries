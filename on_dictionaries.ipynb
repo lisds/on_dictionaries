{
 "cells": [
  {
   "cell_type": "markdown",
   "id": "34bfb7fe",
   "metadata": {},
   "source": [
    "# On dictionaries"
   ]
  },
  {
   "cell_type": "code",
   "execution_count": null,
   "id": "497df73f",
   "metadata": {},
   "outputs": [],
   "source": [
    "# Don't change this cell; just run it.\n",
    "import numpy as np  # The array library.\n",
    "\n",
    "import pandas as pd\n",
    "pd.set_option('mode.copy_on_write', True)\n",
    "\n",
    "# The OKpy testing system.\n",
    "from client.api.notebook import Notebook\n",
    "ok = Notebook('on_dictionaries.ok')"
   ]
  },
  {
   "cell_type": "markdown",
   "id": "bfe80b1a",
   "metadata": {},
   "source": [
    "We start off with a dictionary of the wage bills for all teams in the [English\n",
    "Premier League 2021/22\n",
    "season](https://github.com/odsti/datasets/tree/main/premier_league).  We'll get\n",
    "the dictionary via Pandas, but we won't be using Pandas much in this page,\n",
    "otherwise. Treat the following code as magic for now."
   ]
  },
  {
   "cell_type": "code",
   "execution_count": null,
   "id": "dc0ec059",
   "metadata": {},
   "outputs": [],
   "source": [
    "# Run this code.  It makes a dictionary where the\n",
    "# keys are team names, and the values are corresponding wage bills.\n",
    "epl_df = pd.read_csv('premier_league_2021.csv')\n",
    "wage_series = epl_df.set_index('team')['wages_year']\n",
    "wages = wage_series.to_dict()\n",
    "wages"
   ]
  },
  {
   "cell_type": "markdown",
   "id": "b6af4b1f",
   "metadata": {},
   "source": [
    "Use the `wages` dictionary to set `bha_wages` to the wage bill for Brighton and Hove Albion:"
   ]
  },
  {
   "cell_type": "code",
   "execution_count": null,
   "id": "baf47d4b",
   "metadata": {},
   "outputs": [],
   "source": [
    "bha_wages ...\n",
    "# Show the result\n",
    "bha_wages"
   ]
  },
  {
   "cell_type": "code",
   "execution_count": null,
   "id": "33de7d48",
   "metadata": {},
   "outputs": [],
   "source": [
    "_ = ok.grade('q_bha_wages')"
   ]
  },
  {
   "cell_type": "markdown",
   "id": "b3f721ec",
   "metadata": {},
   "source": [
    "*Use the dictionary* `wages` to calculate the average wage bill across all the teams.\n",
    "\n",
    "You could do this with a `for` loop, but see if you can do the calculation in\n",
    "a single line."
   ]
  },
  {
   "cell_type": "code",
   "execution_count": null,
   "id": "0a9aa261",
   "metadata": {},
   "outputs": [],
   "source": [
    "...\n",
    "mean_wages = ...\n",
    "# Show the result\n",
    "mean_wages"
   ]
  },
  {
   "cell_type": "code",
   "execution_count": null,
   "id": "bbd3e1c7",
   "metadata": {},
   "outputs": [],
   "source": [
    "_ = ok.grade('q_mean_wages')"
   ]
  },
  {
   "cell_type": "markdown",
   "id": "e4644674",
   "metadata": {},
   "source": [
    "What is the mean wage bill of all teams with names ending in 'United'?\n",
    "\n",
    "Search for the team names with code (don't just read off the team names ending in \"United\" and type them in.\n",
    "\n",
    "**Hint** : remember string methods."
   ]
  },
  {
   "cell_type": "code",
   "execution_count": null,
   "id": "7d0c3e92",
   "metadata": {},
   "outputs": [],
   "source": [
    "united_mean_wages = ...\n",
    "...\n",
    "# Show the result\n",
    "united_mean_wages"
   ]
  },
  {
   "cell_type": "code",
   "execution_count": null,
   "id": "7972b9fb",
   "metadata": {},
   "outputs": [],
   "source": [
    "_ = ok.grade('q_united_mean_wages')"
   ]
  },
  {
   "cell_type": "markdown",
   "id": "d84099c7",
   "metadata": {},
   "source": [
    "Now we get quite a bit harder.\n",
    "\n",
    "You may know or remember that Pandas allows us to select values with labels, like this:"
   ]
  },
  {
   "cell_type": "code",
   "execution_count": null,
   "id": "5b4c4c64",
   "metadata": {},
   "outputs": [],
   "source": [
    "# Run this cell.\n",
    "wage_series.loc['Arsenal':'Crystal Palace']"
   ]
  },
  {
   "cell_type": "markdown",
   "id": "2a076317",
   "metadata": {},
   "source": [
    "This selects all the values starting with the one labeled 'Arsenal', up to *and including* the one labeled 'Crystal Palace'.\n",
    "\n",
    "Now see if you can fill in a function `get_from_to` that takes arguments:\n",
    "\n",
    "* a dictionary — call this `d`;\n",
    "* a starting key — call this `start_key`, and\n",
    "* an ending key — call this `last_key`.\n",
    "\n",
    "The function returns a new dictionary that just contains the key, value pairs\n",
    "starting with `start_key` (and its associated value) up to, and including\n",
    "`last_key` (and its associated value)."
   ]
  },
  {
   "cell_type": "markdown",
   "id": "49139192",
   "metadata": {},
   "source": [
    "**Hint** : you may want to use the `break` statement in a `for` loop.  They work like this:"
   ]
  },
  {
   "cell_type": "code",
   "execution_count": null,
   "id": "3f2aecc7",
   "metadata": {},
   "outputs": [],
   "source": [
    "values = [1, 2, 99, 3, 4, 5]\n",
    "for v in values:\n",
    "    if v == 99:\n",
    "        break   # Stop the for loop now, to the end of the loop.\n",
    "    print('Value is', v)"
   ]
  },
  {
   "cell_type": "code",
   "execution_count": null,
   "id": "4023b561",
   "metadata": {},
   "outputs": [],
   "source": [
    "def get_from_to(d, start_key, last_key):\n",
    "    \"\"\" Return dict from `d` from `start_key` to (including) `end_key`\n",
    "\n",
    "    Parameters\n",
    "    ----------\n",
    "    d : dict\n",
    "        Dictionary from which to select key, value pairs.\n",
    "    start_key : str (or other object)\n",
    "        First key for returned dict.\n",
    "    last_key : str (or other object)\n",
    "        Final key for returned dict.\n",
    "\n",
    "    Returns\n",
    "    -------\n",
    "    out_d : dict\n",
    "        Key with key, values from `start_dict` and `last_key`.\n",
    "    \"\"\"\n",
    "    return out_dict"
   ]
  },
  {
   "cell_type": "code",
   "execution_count": null,
   "id": "80c18836",
   "metadata": {
    "lines_to_next_cell": 0
   },
   "outputs": [],
   "source": [
    "# A quick test\n",
    "get_from_to(wages, 'Arsenal', 'Crystal Palace')"
   ]
  },
  {
   "cell_type": "markdown",
   "id": "0ce15c46",
   "metadata": {},
   "source": [
    "## Done.\n",
    "\n",
    "Congratulations, you're done with the assignment!  Be sure to:\n",
    "\n",
    "- **run all the tests** (the next cell has a shortcut for that).\n",
    "- **Save and Checkpoint** from the `File` menu."
   ]
  },
  {
   "cell_type": "code",
   "execution_count": null,
   "id": "f4ad7868",
   "metadata": {},
   "outputs": [],
   "source": [
    "# For your convenience, you can run this cell to run all the tests at once!\n",
    "import os\n",
    "_ = [ok.grade(q[:-3]) for q in os.listdir(\"tests\") if q.startswith('q')]"
   ]
  }
 ],
 "metadata": {
  "jupytext": {
   "notebook_metadata_filter": "all,-language_info",
   "split_at_heading": true,
   "text_representation": {
    "extension": ".Rmd",
    "format_name": "rmarkdown",
    "format_version": "1.2",
    "jupytext_version": "1.15.2"
   }
  },
  "kernelspec": {
   "display_name": "Python 3 (ipykernel)",
   "language": "python",
   "name": "python3"
  }
 },
 "nbformat": 4,
 "nbformat_minor": 5
}
