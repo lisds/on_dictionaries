{
 "cells": [
  {
   "cell_type": "markdown",
   "id": "dad42f9e",
   "metadata": {},
   "source": [
    "# On dictionaries"
   ]
  },
  {
   "cell_type": "code",
   "execution_count": null,
   "id": "c8d4b6ba",
   "metadata": {},
   "outputs": [],
   "source": [
    "# Don't change this cell; just run it.\n",
    "import numpy as np  # The array library.\n",
    "\n",
    "import pandas as pd\n",
    "pd.set_option('mode.copy_on_write', True)\n",
    "\n",
    "# The OKpy testing system.\n",
    "from client.api.notebook import Notebook\n",
    "ok = Notebook('on_dictionaries.ok')"
   ]
  },
  {
   "cell_type": "markdown",
   "id": "fdf77dd4",
   "metadata": {},
   "source": [
    "We start off with a dictionary of the wage bills for all teams in the [English\n",
    "Premier League 2021/22\n",
    "season](https://github.com/odsti/datasets/tree/main/premier_league).  We'll get\n",
    "the dictionary via Pandas, but we won't be using Pandas much in this page,\n",
    "otherwise. Treat the following code as magic for now."
   ]
  },
  {
   "cell_type": "code",
   "execution_count": null,
   "id": "6dc03c4e",
   "metadata": {},
   "outputs": [],
   "source": [
    "# Run this code.  It makes a dictionary where the\n",
    "# keys are team names, and the values are corresponding wage bills.\n",
    "epl_df = pd.read_csv('premier_league_2021.csv')\n",
    "wage_series = epl_df.set_index('team')['wages_year']\n",
    "wages = wage_series.to_dict()\n",
    "wages"
   ]
  },
  {
   "cell_type": "markdown",
   "id": "1c9f6e4f",
   "metadata": {},
   "source": [
    "Use the `wages` dictionary to set `bha_wages` to the wage bill for Brighton and Hove Albion:"
   ]
  },
  {
   "cell_type": "code",
   "execution_count": null,
   "id": "720d5036",
   "metadata": {},
   "outputs": [],
   "source": [
    "bha_wages ...\n",
    "# Show the result\n",
    "bha_wages"
   ]
  },
  {
   "cell_type": "code",
   "execution_count": null,
   "id": "8dd17898",
   "metadata": {},
   "outputs": [],
   "source": [
    "_ = ok.grade('q_bha_wages')"
   ]
  },
  {
   "cell_type": "markdown",
   "id": "4f0b85fc",
   "metadata": {},
   "source": [
    "*Use the dictionary* `wages` to calculate the average wage bill across all the teams.\n",
    "\n",
    "You could do this with a `for` loop, but see if you can do the calculation in\n",
    "a single line."
   ]
  },
  {
   "cell_type": "code",
   "execution_count": null,
   "id": "8148c4b9",
   "metadata": {},
   "outputs": [],
   "source": [
    "...\n",
    "mean_wages = ...\n",
    "# Show the result\n",
    "mean_wages"
   ]
  },
  {
   "cell_type": "code",
   "execution_count": null,
   "id": "230be08d",
   "metadata": {},
   "outputs": [],
   "source": [
    "_ = ok.grade('q_mean_wages')"
   ]
  },
  {
   "cell_type": "markdown",
   "id": "cbfb4373",
   "metadata": {},
   "source": [
    "What is the mean wage bill of all teams with names ending in 'United'?\n",
    "\n",
    "Search for the team names with code (don't just read off the team names ending in \"United\" and type them in.\n",
    "\n",
    "**Hint** : remember string methods."
   ]
  },
  {
   "cell_type": "code",
   "execution_count": null,
   "id": "2a64e1ff",
   "metadata": {},
   "outputs": [],
   "source": [
    "united_mean_wages = ...\n",
    "...\n",
    "# Show the result\n",
    "united_mean_wages"
   ]
  },
  {
   "cell_type": "code",
   "execution_count": null,
   "id": "ac223df8",
   "metadata": {},
   "outputs": [],
   "source": [
    "_ = ok.grade('q_united_mean_wages')"
   ]
  },
  {
   "cell_type": "markdown",
   "id": "e56f0735",
   "metadata": {},
   "source": [
    "Now we get quite a bit harder.\n",
    "\n",
    "You may know or remember that Pandas allows us to select values with labels, like this:"
   ]
  },
  {
   "cell_type": "code",
   "execution_count": null,
   "id": "a7480d63",
   "metadata": {},
   "outputs": [],
   "source": [
    "# Run this cell.\n",
    "wage_series.loc['Arsenal':'Crystal Palace']"
   ]
  },
  {
   "cell_type": "markdown",
   "id": "42957e1d",
   "metadata": {},
   "source": [
    "This selects all the values starting with the one labeled 'Arsenal', up to *and including* the one labeled 'Crystal Palace'.\n",
    "\n",
    "Now see if you can fill in a function `get_from_to` that takes arguments:\n",
    "\n",
    "* a dictionary — call this `d`;\n",
    "* a starting key — call this `start_key`, and\n",
    "* an ending key — call this `last_key`.\n",
    "\n",
    "The function returns a new dictionary that just contains the key, value pairs\n",
    "starting with `start_key` (and its associated value) up to, and including\n",
    "`last_key` (and its associated value).\n",
    "\n",
    "As for Pandas indexing, you should make your function generate an error if you cannot find the `start_key` or the `last_key`.  For example, this is what it looks like to raise an error if you didn't find the start key:"
   ]
  },
  {
   "cell_type": "code",
   "execution_count": null,
   "id": "a08e5c12",
   "metadata": {
    "tags": [
     "raises-exception"
    ]
   },
   "outputs": [],
   "source": [
    "raise ValueError('Could not find start key ' + start_key)"
   ]
  },
  {
   "cell_type": "markdown",
   "id": "3f78cca7",
   "metadata": {},
   "source": [
    "You can also let Python generate the error some other way.\n",
    "\n",
    "**Hint**: You may or may not want to investigate the `.index()` method of lists."
   ]
  },
  {
   "cell_type": "code",
   "execution_count": null,
   "id": "98c3bdc1",
   "metadata": {},
   "outputs": [],
   "source": [
    "def get_from_to(d, start_key, last_key):\n",
    "    \"\"\" Return dict from `d` from `start_key` to (including) `end_key`\n",
    "\n",
    "    Parameters\n",
    "    ----------\n",
    "    d : dict\n",
    "        Dictionary from which to select key, value pairs.\n",
    "    start_key : str (or other object)\n",
    "        First key for returned dict.\n",
    "    last_key : str (or other object)\n",
    "        Final key for returned dict.\n",
    "\n",
    "    Returns\n",
    "    -------\n",
    "    out_d : dict\n",
    "        Key with key, values from `start_dict` and `last_key`.\n",
    "    \"\"\"\n",
    "    # Our solution was 8 lines long, but you may find a shorter\n",
    "    # or a longer solution.\n",
    "    return out_dict"
   ]
  },
  {
   "cell_type": "code",
   "execution_count": null,
   "id": "b32e1eee",
   "metadata": {},
   "outputs": [],
   "source": [
    "# A quick test\n",
    "res = get_from_to(wages, 'Arsenal', 'Crystal Palace')\n",
    "# Check the result is the same as we get from Pandas\n",
    "assert res == wage_series.loc['Arsenal':'Crystal Palace'].to_dict()"
   ]
  },
  {
   "cell_type": "markdown",
   "id": "53005344",
   "metadata": {},
   "source": [
    "## Done.\n",
    "\n",
    "Congratulations, you're done with the assignment!  Be sure to:\n",
    "\n",
    "- **run all the tests** (the next cell has a shortcut for that).\n",
    "- **Save and Checkpoint** from the `File` menu."
   ]
  },
  {
   "cell_type": "code",
   "execution_count": null,
   "id": "d15e2bac",
   "metadata": {},
   "outputs": [],
   "source": [
    "# For your convenience, you can run this cell to run all the tests at once!\n",
    "import os\n",
    "_ = [ok.grade(q[:-3]) for q in os.listdir(\"tests\") if q.startswith('q')]"
   ]
  }
 ],
 "metadata": {
  "jupytext": {
   "notebook_metadata_filter": "all,-language_info",
   "split_at_heading": true,
   "text_representation": {
    "extension": ".Rmd",
    "format_name": "rmarkdown",
    "format_version": "1.2",
    "jupytext_version": "1.15.2"
   }
  },
  "kernelspec": {
   "display_name": "Python 3 (ipykernel)",
   "language": "python",
   "name": "python3"
  }
 },
 "nbformat": 4,
 "nbformat_minor": 5
}
